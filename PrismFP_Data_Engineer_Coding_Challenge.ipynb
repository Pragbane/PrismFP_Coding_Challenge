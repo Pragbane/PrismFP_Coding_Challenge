{
 "cells": [
  {
   "cell_type": "markdown",
   "id": "a8bf2303",
   "metadata": {},
   "source": [
    "# Prismfp Data Engineering Coding Challenge\n"
   ]
  },
  {
   "cell_type": "markdown",
   "id": "41ddbf06",
   "metadata": {},
   "source": [
    "# Introduction"
   ]
  },
  {
   "cell_type": "markdown",
   "id": "c51a684f",
   "metadata": {},
   "source": [
    "The below script is created to make an automated application which will take below inputs<br>\n",
    "1. A start timestamp and end timestamp <br>\n",
    "2. A set of Instrument codes<br>\n",
    "3. A set of value fields <br>\n",
    "The idea here is to fetch all the values of a field(available in the main data file data.txt) by looking up with the metadata file Static.txt and Dynamic.txt"
   ]
  },
  {
   "cell_type": "markdown",
   "id": "ee0ae9d0",
   "metadata": {},
   "source": [
    "# Understanding and approach"
   ]
  },
  {
   "cell_type": "markdown",
   "id": "07013843",
   "metadata": {},
   "source": [
    "My understanding from the assignment is as follows:<br>\n",
    "1. There are 3 files, one is the data file, and other two is the metadata file(where field names are defined)\n",
    "2. Data file has a dynamic structure, means all the rows may not have the same number of columns\n",
    "3. The ask here is to provide the inputs as mentioned in the introduction, inputs are start and end timestamp, list of instrument codes and names of the fields, and then get an output in a format which can be useful or used by the downstream system\n",
    "\n",
    "Approach<br>\n",
    "1. While coding I always try to take optimal usage of memory so that a less scan is used while doing a lookup.\n",
    "2. Break the dataset into smaller chunks perform transformation and then union it once all the calculation are done\n",
    "3. Make sure there are no complex joins or lambda transformation that would impact a processing time"
   ]
  },
  {
   "cell_type": "markdown",
   "id": "82c4f9e9",
   "metadata": {},
   "source": [
    "# Section1"
   ]
  },
  {
   "cell_type": "markdown",
   "id": "5a9bd9ce",
   "metadata": {},
   "source": [
    "This section to define all the required libraries, all the required inputs and initialization of all 3 files into dataframe"
   ]
  },
  {
   "cell_type": "code",
   "execution_count": 8,
   "id": "75493eb1",
   "metadata": {},
   "outputs": [
    {
     "name": "stdout",
     "output_type": "stream",
     "text": [
      "Please enter the start and end timestamp in comma separated format: 00:00:32:778,00:30:32:778\n",
      "Please enter the instrument codes in comma separated format: IXN24AJB64000,IXN23AKB64000\n",
      "Please enter all the static and dynamic fields in comma separated format: Expiration day,Expiration year (modulo 100)\n"
     ]
    }
   ],
   "source": [
    "import pandas as pd\n",
    "import re\n",
    "import datetime\n",
    "from datetime import datetime\n",
    "\n",
    "###Input values\n",
    "Timestamp = input(\"Please enter the start and end timestamp in comma separated format: \")\n",
    "Timestamp_list=Timestamp.split(\",\")\n",
    "Instrument_Codes=input(\"Please enter the instrument codes in comma separated format: \")\n",
    "Instrument_list=Instrument_Codes.split(\",\")\n",
    "Fields=input(\"Please enter all the static and dynamic fields in comma separated format: \")\n",
    "Input_list_of_fields=Fields.split(\",\")\n",
    "\n",
    "###The data file structure is dynamic,but it has maximum 26 fields, the number can also be paramiterized for better coding standard\n",
    "data = pd.read_csv(\"data.txt\", sep=\"|\", low_memory=False,header=None,names=['col' + str(x) for x in range(27) ])\n",
    "Static = pd.read_csv(\"StaticFields.Txt\", sep=\"\t\", low_memory=False,header=None,names=['col' + str(x) for x in range(2) ])\n",
    "Dynamic = pd.read_csv(\"DynamicFields.Txt\", sep=\"\t\", low_memory=False,header=None,names=['col' + str(x) for x in range(2) ])"
   ]
  },
  {
   "cell_type": "markdown",
   "id": "206f2b1e",
   "metadata": {},
   "source": [
    "# Section2"
   ]
  },
  {
   "cell_type": "markdown",
   "id": "99ae7dba",
   "metadata": {},
   "source": [
    "# Data Analysis"
   ]
  },
  {
   "cell_type": "markdown",
   "id": "01f5fe70",
   "metadata": {},
   "source": [
    "In this section all the data analysis results and observations are captured<br>\n",
    "1. To find the grain of the data\n",
    "2. If there are duplicates(whether they are valid or not)\n",
    "3. To find if there are any null values present"
   ]
  },
  {
   "cell_type": "code",
   "execution_count": 6,
   "id": "6b9559c1",
   "metadata": {},
   "outputs": [
    {
     "data": {
      "text/plain": [
       "1838"
      ]
     },
     "execution_count": 6,
     "metadata": {},
     "output_type": "execute_result"
    }
   ],
   "source": [
    "#data.head(6)\n",
    "#data.shape\n",
    "###Duplicate check\n",
    "###Merge both static and dynamic files and make it a one copy\n",
    "DF_Union=pd.concat([Static, Dynamic])\n",
    "#DF_Union.shape----3271\n",
    "#DF_Union.head(5)\n",
    "#DF_Union['col1'].unique.count\n",
    "#len(pd.unique(DF_Union['col1']))----3228\n",
    "#DF_Union['col1'].duplicated()\n",
    "#pd.concat(g for _, g in data.groupby(\"col3\") if len(g) > 1)\n",
    "len(pd.unique(data['col3']))\n",
    "#pd.concat(g for _, g in DF_Union.groupby(['col0', 'col1']) if len(g) > 1)"
   ]
  },
  {
   "cell_type": "markdown",
   "id": "bb021278",
   "metadata": {},
   "source": [
    "# Section 3"
   ]
  },
  {
   "cell_type": "markdown",
   "id": "895bd0f4",
   "metadata": {},
   "source": [
    "This section is to define any user defined function (if required)"
   ]
  },
  {
   "cell_type": "code",
   "execution_count": 3,
   "id": "67e81795",
   "metadata": {},
   "outputs": [],
   "source": [
    "def function_value(string: str,search_text: str):\n",
    "    match = re.search(search_text, string)\n",
    "    if match:\n",
    "        position_start = match.start()\n",
    "        position_end = match.end()\n",
    "        List=string[position_end:].split('|')\n",
    "        \n",
    "        return List[0]\n",
    "    "
   ]
  },
  {
   "cell_type": "markdown",
   "id": "62320374",
   "metadata": {},
   "source": [
    "# Section 4"
   ]
  },
  {
   "cell_type": "markdown",
   "id": "e2bf5f91",
   "metadata": {},
   "source": [
    "Processing and tranformation<br>\n",
    "Step1: Filter the main data set based on start timestamp and end timestamp and instrument codes and message type,so that the scan has to be perfomed on the optimal set of records<br>\n",
    "Step2: Once the processing done both the datafrmae can be merged once again"
   ]
  },
  {
   "cell_type": "code",
   "execution_count": 9,
   "id": "c57c97b0",
   "metadata": {},
   "outputs": [
    {
     "name": "stdout",
     "output_type": "stream",
     "text": [
      "  Instrument_Code                    Field_Name field_value message_type\n",
      "0   IXN24AJB64000                Expiration day          f4            S\n",
      "1   IXN24AJB64000  Expiration year (modulo 100)          f6            S\n",
      "2   IXN23AKB64000                Expiration day          f4            S\n",
      "3   IXN23AKB64000  Expiration year (modulo 100)          f6            S\n"
     ]
    }
   ],
   "source": [
    "field_list=[]\n",
    "for i in Instrument_list:\n",
    "    for n in Input_list_of_fields:\n",
    "        for index, row in DF_Union.iterrows():\n",
    "            #print(i+n)\n",
    "            #print(row['col1'])\n",
    "            if (row['col1']==n and row['col0'][0]=='S'):\n",
    "            #field_list.append(row['col0'])\n",
    "                field_list.append({'Instrument_Code':i,'Field_Name':n,'field_value':'f'+row['col0'][1:],'message_type':'S'})\n",
    "            elif (row['col1']==n):\n",
    "                field_list.append({'Instrument_Code':i,'Field_Name':n,'field_value':'f'+row['col0'][1:],'message_type':'D'})\n",
    "            \n",
    "#print(field_list)\n",
    "rdf = pd.DataFrame(field_list).sort_values('message_type')\n",
    "#rdf = pd.DataFrame(field_list)\n",
    "print(rdf)"
   ]
  },
  {
   "cell_type": "code",
   "execution_count": 10,
   "id": "a3f4b35b",
   "metadata": {},
   "outputs": [],
   "source": [
    "date_format = '%H:%M:%S:%f'\n",
    "\n",
    "Start_timestamp = datetime.strptime(Timestamp_list[0], date_format)\n",
    "End_timestamp=datetime.strptime(Timestamp_list[1], date_format)\n",
    "#print(date_obj)\n",
    "\n",
    "Required_DF_S=data[(pd.to_datetime(data['col1'],format= '%H:%M:%S:%f' ) >= Start_timestamp) & (pd.to_datetime(data['col1'],format= '%H:%M:%S:%f' )<= End_timestamp) & (data['col3'].isin(Instrument_list)) & (data['col2']=='S') ]\n",
    "Required_DF_D=data[(pd.to_datetime(data['col1'],format= '%H:%M:%S:%f' ) >= Start_timestamp) & (pd.to_datetime(data['col1'],format= '%H:%M:%S:%f' )<= End_timestamp) & (data['col3'].isin(Instrument_list)) & (data['col2']!='S') ]\n",
    "#Required_DF=data[(pd.to_datetime(data['col1'],format= '%H:%M:%S:%f' ) >= Start_timestamp)]\n",
    "#Required_DF=data.apply(lambda row:[j for j in row['col3'] if ( j in Instrument_list & (pd.to_datetime(data['col1'],format= '%H:%M:%S:%f' ) >= Start_timestamp) & (pd.to_datetime(data['col1'],format= '%H:%M:%S:%f' )<= End_timestamp))], axis=1)\n"
   ]
  },
  {
   "cell_type": "code",
   "execution_count": 12,
   "id": "ee9f87d3",
   "metadata": {},
   "outputs": [],
   "source": [
    "for m, n in rdf.iterrows():\n",
    "    search_text=n['field_value']+'='\n",
    "    List=[]\n",
    "    for index, row in Required_DF_S.iterrows():\n",
    "        \n",
    "        #print('rdf'+n['Instrument_Code'])\n",
    "        #print('data' +row['col3'])\n",
    "        if row['col3']==n['Instrument_Code']:\n",
    "            main_string = '|'.join(map(str, row))\n",
    "            List.append(function_value(main_string,search_text))\n",
    "            \n",
    "    #print(List)\n",
    "    a=', '.join(List)\n",
    "    #print(a)\n",
    "    #n['New_Field_value']=List\n",
    "    rdf.at[m, 'New_Field_value'] = a\n",
    "    \n"
   ]
  },
  {
   "cell_type": "code",
   "execution_count": 18,
   "id": "6802d4c5",
   "metadata": {},
   "outputs": [
    {
     "data": {
      "text/html": [
       "<div>\n",
       "<style scoped>\n",
       "    .dataframe tbody tr th:only-of-type {\n",
       "        vertical-align: middle;\n",
       "    }\n",
       "\n",
       "    .dataframe tbody tr th {\n",
       "        vertical-align: top;\n",
       "    }\n",
       "\n",
       "    .dataframe thead th {\n",
       "        text-align: right;\n",
       "    }\n",
       "</style>\n",
       "<table border=\"1\" class=\"dataframe\">\n",
       "  <thead>\n",
       "    <tr style=\"text-align: right;\">\n",
       "      <th></th>\n",
       "      <th>Instrument_Code</th>\n",
       "      <th>Field_Name</th>\n",
       "      <th>message_type</th>\n",
       "      <th>Field_Value</th>\n",
       "    </tr>\n",
       "  </thead>\n",
       "  <tbody>\n",
       "    <tr>\n",
       "      <th>0</th>\n",
       "      <td>IXN24AJB64000</td>\n",
       "      <td>Expiration day</td>\n",
       "      <td>S</td>\n",
       "      <td>19</td>\n",
       "    </tr>\n",
       "    <tr>\n",
       "      <th>1</th>\n",
       "      <td>IXN24AJB64000</td>\n",
       "      <td>Expiration year (modulo 100)</td>\n",
       "      <td>S</td>\n",
       "      <td>2024</td>\n",
       "    </tr>\n",
       "    <tr>\n",
       "      <th>2</th>\n",
       "      <td>IXN23AKB64000</td>\n",
       "      <td>Expiration day</td>\n",
       "      <td>S</td>\n",
       "      <td>20</td>\n",
       "    </tr>\n",
       "    <tr>\n",
       "      <th>3</th>\n",
       "      <td>IXN23AKB64000</td>\n",
       "      <td>Expiration year (modulo 100)</td>\n",
       "      <td>S</td>\n",
       "      <td>2023</td>\n",
       "    </tr>\n",
       "  </tbody>\n",
       "</table>\n",
       "</div>"
      ],
      "text/plain": [
       "  Instrument_Code                    Field_Name message_type Field_Value\n",
       "0   IXN24AJB64000                Expiration day            S          19\n",
       "1   IXN24AJB64000  Expiration year (modulo 100)            S        2024\n",
       "2   IXN23AKB64000                Expiration day            S          20\n",
       "3   IXN23AKB64000  Expiration year (modulo 100)            S        2023"
      ]
     },
     "execution_count": 18,
     "metadata": {},
     "output_type": "execute_result"
    }
   ],
   "source": [
    "rdf\n",
    "#rdf.drop('field_value', axis=1, inplace=True)\n",
    "#rdf = rdf.rename(columns={'New_Field_value': 'Field_Value'})"
   ]
  },
  {
   "cell_type": "markdown",
   "id": "c6c81b66",
   "metadata": {},
   "source": [
    "# Conclusion/Summary"
   ]
  },
  {
   "cell_type": "markdown",
   "id": "51979163",
   "metadata": {},
   "source": [
    "This code is unit tested for below senarios<br>\n",
    "1. If there are multiple values for one instrument_code and Field_name combination then the field_values will be comma separated(we have make it denormalized for now to avoid making multiple repeted lines.\n",
    "2. To check if the values are populated correctly in all the output fields\n",
    "\n",
    "Further enhancements to the existing code:<br>\n",
    "1. Timestamp can also be added along with the proper message type, here only S and D are shown.\n",
    "2. Both the dataset can be merged, author only did for Static set in the code\n",
    "3. SQL part not tried as mainly focussed on python\n",
    "\n",
    "Challenges faced:\n",
    "1. As mentioned in the assignment, author tried to complete the initial coding in 3 hours, but eventually it take little more time as to find a better way to get the field values for a corresponding field_name\n",
    "\n",
    "Summary:\n",
    "The author wants to thank the PrismFP analytics team for an interesting coding challenge which is definitely enjoyable.\n",
    "\n"
   ]
  },
  {
   "cell_type": "code",
   "execution_count": null,
   "id": "89025196",
   "metadata": {},
   "outputs": [],
   "source": []
  }
 ],
 "metadata": {
  "kernelspec": {
   "display_name": "Python 3 (ipykernel)",
   "language": "python",
   "name": "python3"
  },
  "language_info": {
   "codemirror_mode": {
    "name": "ipython",
    "version": 3
   },
   "file_extension": ".py",
   "mimetype": "text/x-python",
   "name": "python",
   "nbconvert_exporter": "python",
   "pygments_lexer": "ipython3",
   "version": "3.9.12"
  }
 },
 "nbformat": 4,
 "nbformat_minor": 5
}
